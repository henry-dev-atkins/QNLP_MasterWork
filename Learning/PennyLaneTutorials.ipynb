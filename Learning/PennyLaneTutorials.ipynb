{
 "cells": [
  {
   "cell_type": "code",
   "execution_count": 1,
   "metadata": {},
   "outputs": [
    {
     "name": "stderr",
     "output_type": "stream",
     "text": [
      "c:\\Users\\henry\\Desktop\\MastersProject\\QC_env\\lib\\site-packages\\lambeq\\text2diagram\\ccg_parser.py:25: TqdmWarning: IProgress not found. Please update jupyter and ipywidgets. See https://ipywidgets.readthedocs.io/en/stable/user_install.html\n",
      "  from tqdm.autonotebook import tqdm\n"
     ]
    }
   ],
   "source": [
    "import lambeq as lq\n",
    "import pennylane as pl\n",
    "import numpy as np"
   ]
  },
  {
   "cell_type": "markdown",
   "metadata": {},
   "source": [
    "# Lambeq"
   ]
  },
  {
   "cell_type": "code",
   "execution_count": 7,
   "metadata": {},
   "outputs": [
    {
     "data": {
      "image/png": "[encoded data removed]",
      "text/plain": [
       "<Figure size 1400x300 with 1 Axes>"
      ]
     },
     "metadata": {},
     "output_type": "display_data"
    }
   ],
   "source": [
    "from lambeq import BobcatParser\n",
    "from discopy import grammar\n",
    "\n",
    "sentence = 'John walks in the park'\n",
    "\n",
    "# Parse the sentence and convert it into a string diagram\n",
    "parser = BobcatParser(verbose='suppress')\n",
    "diagram = parser.sentence2diagram(sentence)\n",
    "\n",
    "grammar.draw(diagram, figsize=(14,3), fontsize=12)"
   ]
  },
  {
   "cell_type": "markdown",
   "metadata": {},
   "source": [
    "# Pennylane"
   ]
  },
  {
   "cell_type": "code",
   "execution_count": 12,
   "metadata": {},
   "outputs": [
    {
     "data": {
      "text/plain": [
       "array([1.  , 0.75, 1.  , 0.75, 1.  , 0.75, 1.  , 0.75, 1.  , 0.75])"
      ]
     },
     "execution_count": 12,
     "metadata": {},
     "output_type": "execute_result"
    }
   ],
   "source": [
    "vector = np.array([4,3]*5)\n",
    "vector = vector/vector.max()\n",
    "vector"
   ]
  },
  {
   "cell_type": "markdown",
   "metadata": {},
   "source": [
    "## My Version"
   ]
  },
  {
   "cell_type": "code",
   "execution_count": 13,
   "metadata": {},
   "outputs": [
    {
     "name": "stdout",
     "output_type": "stream",
     "text": [
      "0: ──H──Rot(0.13,0.00,0.00)─┤  <Z>\n",
      "1: ──H──Rot(2.01,0.00,0.00)─┤  <Z>\n",
      "2: ──H──Rot(6.28,0.00,0.00)─┤  <Z>\n"
     ]
    }
   ],
   "source": [
    "device = pl.device(\"default.qubit\", wires=len(vector))\n",
    "\n",
    "def NormalizeVector(vector):\n",
    "    return vector/vector.max()\n",
    "\n",
    "@pl.qnode(device)\n",
    "def EncodeVector(vector):\n",
    "    for idx, i in enumerate(vector):\n",
    "        pl.Hadamard(idx)\n",
    "    for idx, i in enumerate(vector):\n",
    "        pl.Rot(i*2*np.pi, 0, 0, wires=idx)\n",
    "    return pl.expval(pl.PauliZ(0)), pl.expval(pl.PauliZ(1)), pl.expval(pl.PauliZ(2))\n",
    "\n",
    "circuit = pl.QNode(EncodeVector, device)\n",
    "\n",
    "vector = NormalizeVector(np.array([0.2, 3, 9.4]))\n",
    "\n",
    "print(pl.draw(circuit, expansion_strategy=\"device\")(vector))"
   ]
  },
  {
   "cell_type": "markdown",
   "metadata": {},
   "source": [
    "## Pennylane Angle Encoding"
   ]
  },
  {
   "cell_type": "code",
   "execution_count": 45,
   "metadata": {},
   "outputs": [
    {
     "name": "stdout",
     "output_type": "stream",
     "text": [
      "0: ──RZ(0.02)──H─┤ ╭Probs\n",
      "1: ──RZ(0.32)────┤ ├Probs\n",
      "2: ──RZ(1.00)────┤ ╰Probs\n"
     ]
    }
   ],
   "source": [
    "device = pl.device(\"default.qubit\", wires=len(vector))\n",
    "\n",
    "@pl.qnode(device)\n",
    "def PL_AngleEncode(vector):\n",
    "    pl.AngleEmbedding(vector, range(3), \"Z\")\n",
    "    pl.Hadamard(0)\n",
    "    return pl.probs(wires=range(3))\n",
    "\n",
    "circuit = pl.QNode(PL_AngleEncode, device)\n",
    "\n",
    "vector = NormalizeVector(np.array([0.2, 3, 9.4]))\n",
    "\n",
    "print(pl.draw(circuit, expansion_strategy=\"device\")(vector))"
   ]
  },
  {
   "cell_type": "markdown",
   "metadata": {},
   "source": [
    "## Pennylane Amplitude Encoding"
   ]
  },
  {
   "cell_type": "code",
   "execution_count": 88,
   "metadata": {},
   "outputs": [
    {
     "name": "stdout",
     "output_type": "stream",
     "text": [
      "0: ─╭QubitStateVector(M0)──H─┤  <Z>\n",
      "1: ─├QubitStateVector(M0)────┤     \n",
      "2: ─├QubitStateVector(M0)────┤     \n",
      "3: ─╰QubitStateVector(M0)────┤     \n"
     ]
    },
    {
     "data": {
      "text/plain": [
       "array([1.+0.j, 0.+0.j, 0.+0.j, 0.+0.j, 0.+0.j, 0.+0.j, 0.+0.j, 0.+0.j])"
      ]
     },
     "execution_count": 88,
     "metadata": {},
     "output_type": "execute_result"
    }
   ],
   "source": [
    "device = pl.device('default.qubit', wires=3)\n",
    "\n",
    "@pl.qnode(device)\n",
    "def PL_AmplitudeEncode(vector):\n",
    "    pl.AmplitudeEmbedding(features=vector, wires=range(len(vector)), pad_with=0., normalize=True)\n",
    "    pl.Hadamard(0)\n",
    "    return pl.expval(pl.PauliZ(0))\n",
    "\n",
    "circuit = pl.QNode(PL_AmplitudeEncode, device)\n",
    "vector = NormalizeVector(np.array([0.2, 3, 0,]))\n",
    "print(pl.draw(circuit, expansion_strategy=\"device\")(vector))\n",
    "device.state"
   ]
  },
  {
   "cell_type": "code",
   "execution_count": null,
   "metadata": {},
   "outputs": [],
   "source": []
  }
 ],
 "metadata": {
  "kernelspec": {
   "display_name": "QC_env",
   "language": "python",
   "name": "python3"
  },
  "language_info": {
   "codemirror_mode": {
    "name": "ipython",
    "version": 3
   },
   "file_extension": ".py",
   "mimetype": "text/x-python",
   "name": "python",
   "nbconvert_exporter": "python",
   "pygments_lexer": "ipython3",
   "version": "3.10.8"
  },
  "orig_nbformat": 4,
  "vscode": {
   "interpreter": {
    "hash": "d189fd2b47ddadb241d7d165de12d7185a13a06e223542173d7933cb832f0e2e"
   }
  }
 },
 "nbformat": 4,
 "nbformat_minor": 2
}
