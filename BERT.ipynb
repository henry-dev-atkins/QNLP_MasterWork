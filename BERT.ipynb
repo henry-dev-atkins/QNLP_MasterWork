{
 "cells": [
  {
   "cell_type": "code",
   "execution_count": 1,
   "metadata": {},
   "outputs": [
    {
     "name": "stdout",
     "output_type": "stream",
     "text": [
      "Requirement already satisfied: nltk in c:\\users\\henry\\desktop\\mastersproject\\qc_env\\lib\\site-packages (3.8.1)Note: you may need to restart the kernel to use updated packages.\n",
      "\n",
      "Requirement already satisfied: tqdm in c:\\users\\henry\\desktop\\mastersproject\\qc_env\\lib\\site-packages (from nltk) (4.64.1)\n",
      "Requirement already satisfied: regex>=2021.8.3 in c:\\users\\henry\\desktop\\mastersproject\\qc_env\\lib\\site-packages (from nltk) (2022.10.31)\n",
      "Requirement already satisfied: joblib in c:\\users\\henry\\desktop\\mastersproject\\qc_env\\lib\\site-packages (from nltk) (1.2.0)\n",
      "Requirement already satisfied: click in c:\\users\\henry\\desktop\\mastersproject\\qc_env\\lib\\site-packages (from nltk) (8.1.3)\n",
      "Requirement already satisfied: colorama in c:\\users\\henry\\desktop\\mastersproject\\qc_env\\lib\\site-packages (from click->nltk) (0.4.6)\n"
     ]
    },
    {
     "name": "stderr",
     "output_type": "stream",
     "text": [
      "\n",
      "[notice] A new release of pip available: 22.3.1 -> 23.0\n",
      "[notice] To update, run: python.exe -m pip install --upgrade pip\n"
     ]
    }
   ],
   "source": [
    "pip install nltk"
   ]
  },
  {
   "cell_type": "code",
   "execution_count": 2,
   "metadata": {},
   "outputs": [
    {
     "name": "stdout",
     "output_type": "stream",
     "text": [
      "Requirement already satisfied: gensim in c:\\users\\henry\\desktop\\mastersproject\\qc_env\\lib\\site-packages (4.3.0)\n",
      "Requirement already satisfied: FuzzyTM>=0.4.0 in c:\\users\\henry\\desktop\\mastersproject\\qc_env\\lib\\site-packages (from gensim) (2.0.5)\n",
      "Requirement already satisfied: numpy>=1.18.5 in c:\\users\\henry\\desktop\\mastersproject\\qc_env\\lib\\site-packages (from gensim) (1.23.4)\n",
      "Requirement already satisfied: scipy>=1.7.0 in c:\\users\\henry\\desktop\\mastersproject\\qc_env\\lib\\site-packages (from gensim) (1.9.3)\n",
      "Requirement already satisfied: Cython==0.29.32 in c:\\users\\henry\\desktop\\mastersproject\\qc_env\\lib\\site-packages (from gensim) (0.29.32)\n",
      "Requirement already satisfied: smart-open>=1.8.1 in c:\\users\\henry\\desktop\\mastersproject\\qc_env\\lib\\site-packages (from gensim) (5.2.1)\n",
      "Requirement already satisfied: pandas in c:\\users\\henry\\desktop\\mastersproject\\qc_env\\lib\\site-packages (from FuzzyTM>=0.4.0->gensim) (1.5.2)\n",
      "Requirement already satisfied: pyfume in c:\\users\\henry\\desktop\\mastersproject\\qc_env\\lib\\site-packages (from FuzzyTM>=0.4.0->gensim) (0.2.25)\n",
      "Requirement already satisfied: python-dateutil>=2.8.1 in c:\\users\\henry\\desktop\\mastersproject\\qc_env\\lib\\site-packages (from pandas->FuzzyTM>=0.4.0->gensim) (2.8.2)\n",
      "Requirement already satisfied: pytz>=2020.1 in c:\\users\\henry\\desktop\\mastersproject\\qc_env\\lib\\site-packages (from pandas->FuzzyTM>=0.4.0->gensim) (2022.7.1)\n",
      "Requirement already satisfied: fst-pso in c:\\users\\henry\\desktop\\mastersproject\\qc_env\\lib\\site-packages (from pyfume->FuzzyTM>=0.4.0->gensim) (1.8.1)\n",
      "Requirement already satisfied: simpful in c:\\users\\henry\\desktop\\mastersproject\\qc_env\\lib\\site-packages (from pyfume->FuzzyTM>=0.4.0->gensim) (2.9.0)\n",
      "Requirement already satisfied: six>=1.5 in c:\\users\\henry\\desktop\\mastersproject\\qc_env\\lib\\site-packages (from python-dateutil>=2.8.1->pandas->FuzzyTM>=0.4.0->gensim) (1.16.0)\n",
      "Requirement already satisfied: miniful in c:\\users\\henry\\desktop\\mastersproject\\qc_env\\lib\\site-packages (from fst-pso->pyfume->FuzzyTM>=0.4.0->gensim) (0.0.6)\n",
      "Requirement already satisfied: requests in c:\\users\\henry\\desktop\\mastersproject\\qc_env\\lib\\site-packages (from simpful->pyfume->FuzzyTM>=0.4.0->gensim) (2.28.1)\n",
      "Requirement already satisfied: certifi>=2017.4.17 in c:\\users\\henry\\desktop\\mastersproject\\qc_env\\lib\\site-packages (from requests->simpful->pyfume->FuzzyTM>=0.4.0->gensim) (2022.9.24)\n",
      "Requirement already satisfied: urllib3<1.27,>=1.21.1 in c:\\users\\henry\\desktop\\mastersproject\\qc_env\\lib\\site-packages (from requests->simpful->pyfume->FuzzyTM>=0.4.0->gensim) (1.26.12)\n",
      "Requirement already satisfied: idna<4,>=2.5 in c:\\users\\henry\\desktop\\mastersproject\\qc_env\\lib\\site-packages (from requests->simpful->pyfume->FuzzyTM>=0.4.0->gensim) (3.4)\n",
      "Requirement already satisfied: charset-normalizer<3,>=2 in c:\\users\\henry\\desktop\\mastersproject\\qc_env\\lib\\site-packages (from requests->simpful->pyfume->FuzzyTM>=0.4.0->gensim) (2.1.1)\n",
      "Note: you may need to restart the kernel to use updated packages.\n"
     ]
    },
    {
     "name": "stderr",
     "output_type": "stream",
     "text": [
      "\n",
      "[notice] A new release of pip available: 22.3.1 -> 23.0\n",
      "[notice] To update, run: python.exe -m pip install --upgrade pip\n"
     ]
    }
   ],
   "source": [
    "pip install gensim"
   ]
  },
  {
   "attachments": {},
   "cell_type": "markdown",
   "metadata": {},
   "source": [
    "# Data Generate"
   ]
  },
  {
   "cell_type": "code",
   "execution_count": 3,
   "metadata": {},
   "outputs": [
    {
     "name": "stderr",
     "output_type": "stream",
     "text": [
      "[nltk_data] Downloading package brown to\n",
      "[nltk_data]     C:\\Users\\henry\\AppData\\Roaming\\nltk_data...\n",
      "[nltk_data]   Package brown is already up-to-date!\n",
      "c:\\Users\\henry\\Desktop\\MastersProject\\QC_env\\lib\\site-packages\\tqdm\\auto.py:22: TqdmWarning: IProgress not found. Please update jupyter and ipywidgets. See https://ipywidgets.readthedocs.io/en/stable/user_install.html\n",
      "  from .autonotebook import tqdm as notebook_tqdm\n"
     ]
    },
    {
     "name": "stdout",
     "output_type": "stream",
     "text": [
      "First 5 Word Pairs: \n",
      "[['party', 'government'], ['official', 'leader'], ['state', 'government'], ['control', 'intervention'], ['tax', 'interest']]\n",
      "\n",
      "First 5 Words: \n"
     ]
    },
    {
     "data": {
      "text/plain": [
       "['development', 'plan', 'action', 'training', 'education']"
      ]
     },
     "execution_count": 3,
     "metadata": {},
     "output_type": "execute_result"
    }
   ],
   "source": [
    "from DataGenerate import *\n",
    "\n",
    "word_pairs, word_pairs_annotations = GetWordPairs()\n",
    "word_list = GetWords()\n",
    "\n",
    "print(\"First 5 Word Pairs: \")\n",
    "print(word_pairs[:5])\n",
    "\n",
    "print(\"\\nFirst 5 Words: \")\n",
    "word_list[:5]"
   ]
  },
  {
   "attachments": {},
   "cell_type": "markdown",
   "metadata": {},
   "source": [
    "# BERT"
   ]
  },
  {
   "cell_type": "code",
   "execution_count": 4,
   "metadata": {},
   "outputs": [
    {
     "name": "stderr",
     "output_type": "stream",
     "text": [
      "Some weights of the model checkpoint at bert-base-uncased were not used when initializing BertModel: ['cls.seq_relationship.weight', 'cls.predictions.decoder.weight', 'cls.predictions.transform.dense.bias', 'cls.predictions.transform.LayerNorm.weight', 'cls.predictions.transform.LayerNorm.bias', 'cls.seq_relationship.bias', 'cls.predictions.bias', 'cls.predictions.transform.dense.weight']\n",
      "- This IS expected if you are initializing BertModel from the checkpoint of a model trained on another task or with another architecture (e.g. initializing a BertForSequenceClassification model from a BertForPreTraining model).\n",
      "- This IS NOT expected if you are initializing BertModel from the checkpoint of a model that you expect to be exactly identical (initializing a BertForSequenceClassification model from a BertForSequenceClassification model).\n"
     ]
    }
   ],
   "source": [
    "from Models import BertEncodingWords\n",
    "\n",
    "bert = BertEncodingWords()\n",
    "def evaluateWordPair(bert, row_numbers):\n",
    "\tsents_to_evaluate = [bert.preprocessSentence(word_pairs[row_numbers[0]]), bert.preprocessSentence(word_pairs[row_numbers[1]])]\n",
    "\thidden = bert.hiddenLayersBERT(sents_to_evaluate)\n",
    "\tembeddings = bert.GetEmbeddingsForBothWords(hidden)\n",
    "\treturn 1 - cosine(embeddings[1][0], embeddings[1][1])\n",
    "\n",
    "def evaluateAllSentPairs(bert, word_list):\n",
    "\t\tres = []\n",
    "\t\tfor idx, word in enumerate(word_list):\n",
    "\t\t\tif idx % 2 == 0:\n",
    "\t\t\t\tres.append(1 - cosine(bert.getWordVector(word), bert.getWordVector(word_list[idx+1])))\n",
    "\t\treturn res\n",
    "\n",
    "def GetAllBERTVectors(bert, word_list):\n",
    "\tres = []\n",
    "\tfor idx, word in enumerate(word_list):\n",
    "\t\tres.append(bert.getWordVector(word))\n",
    "\treturn res"
   ]
  },
  {
   "cell_type": "code",
   "execution_count": 7,
   "metadata": {},
   "outputs": [
    {
     "name": "stderr",
     "output_type": "stream",
     "text": [
      "Some weights of the model checkpoint at bert-base-uncased were not used when initializing BertModel: ['cls.seq_relationship.weight', 'cls.predictions.decoder.weight', 'cls.predictions.transform.dense.bias', 'cls.predictions.transform.LayerNorm.weight', 'cls.predictions.transform.LayerNorm.bias', 'cls.seq_relationship.bias', 'cls.predictions.bias', 'cls.predictions.transform.dense.weight']\n",
      "- This IS expected if you are initializing BertModel from the checkpoint of a model trained on another task or with another architecture (e.g. initializing a BertForSequenceClassification model from a BertForPreTraining model).\n",
      "- This IS NOT expected if you are initializing BertModel from the checkpoint of a model that you expect to be exactly identical (initializing a BertForSequenceClassification model from a BertForSequenceClassification model).\n"
     ]
    },
    {
     "data": {
      "text/plain": [
       "Text(0, 0.5, 'Cosine Similarity')"
      ]
     },
     "execution_count": 7,
     "metadata": {},
     "output_type": "execute_result"
    },
    {
     "data": {
      "image/png": "[encoded data removed]",
      "text/plain": [
       "<Figure size 640x480 with 1 Axes>"
      ]
     },
     "metadata": {},
     "output_type": "display_data"
    }
   ],
   "source": [
    "bertWwords = BertEncodingWords()\n",
    "similarities = []\n",
    "for pair in word_pairs:\n",
    "\tsimilarities.append(1-cosine(bertWwords.getWordVector(pair[0]), bertWwords.getWordVector(pair[1])))\n",
    "similarities = evaluateAllSentPairs(bertWwords, word_list)\n",
    "plt.scatter(np.arange(0,len(similarities)),similarities)\n",
    "plt.title(\"Dot-product Similarities of pairs of Words according to BERT\")\n",
    "plt.xlabel(\"Word Pair\")\n",
    "plt.ylabel(\"Cosine Similarity\")"
   ]
  },
  {
   "cell_type": "code",
   "execution_count": null,
   "metadata": {},
   "outputs": [],
   "source": []
  }
 ],
 "metadata": {
  "kernelspec": {
   "display_name": "QC_env",
   "language": "python",
   "name": "python3"
  },
  "language_info": {
   "codemirror_mode": {
    "name": "ipython",
    "version": 3
   },
   "file_extension": ".py",
   "mimetype": "text/x-python",
   "name": "python",
   "nbconvert_exporter": "python",
   "pygments_lexer": "ipython3",
   "version": "3.10.8 (tags/v3.10.8:aaaf517, Oct 11 2022, 16:50:30) [MSC v.1933 64 bit (AMD64)]"
  },
  "orig_nbformat": 4,
  "vscode": {
   "interpreter": {
    "hash": "d189fd2b47ddadb241d7d165de12d7185a13a06e223542173d7933cb832f0e2e"
   }
  }
 },
 "nbformat": 4,
 "nbformat_minor": 2
}
