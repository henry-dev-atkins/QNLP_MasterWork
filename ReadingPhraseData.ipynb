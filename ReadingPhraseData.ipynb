{
 "cells": [
  {
   "cell_type": "code",
   "execution_count": 1,
   "metadata": {},
   "outputs": [
    {
     "name": "stderr",
     "output_type": "stream",
     "text": [
      "c:\\Users\\henry\\Desktop\\MastersProject\\QC_env\\lib\\site-packages\\tqdm\\auto.py:22: TqdmWarning: IProgress not found. Please update jupyter and ipywidgets. See https://ipywidgets.readthedocs.io/en/stable/user_install.html\n",
      "  from .autonotebook import tqdm as notebook_tqdm\n"
     ]
    }
   ],
   "source": [
    "import csv\n",
    "import transformers\n",
    "import numpy as np\n",
    "from scipy.spatial.distance import cosine\n",
    "import torch\n",
    "from transformers import BertTokenizer, BertModel\n",
    "\n",
    "# OPTIONAL: if you want to have more information on what's happening, activate the logger as follows\n",
    "import logging\n",
    "#logging.basicConfig(level=logging.INFO)\n",
    "\n",
    "import matplotlib.pyplot as plt\n",
    "#% matplotlib inline\n",
    "\n",
    "# Load pre-trained model tokenizer (vocabulary)\n",
    "tokenizer = BertTokenizer.from_pretrained('bert-base-uncased')\n"
   ]
  },
  {
   "cell_type": "code",
   "execution_count": 2,
   "metadata": {},
   "outputs": [],
   "source": [
    "class BertEncoding():\n",
    "\t#https://colab.research.google.com/drive/1yFphU6PW9Uo6lmDly_ud9a6c4RCYlwdX#scrollTo=Zn0n2S-FWZih\n",
    "\t\"\"\"\n",
    "\tReads a CSV of format:\n",
    "\t\tword1 word2, word3 word4, label\n",
    "\tWhere word1&2 make sentence 1 and 3&4 make sentence2.\n",
    "\t\"\"\"\n",
    "\tdef __init__(self, csv_dir):\n",
    "\t\tself.data = self.listOfRowsFromSCV(csv_dir)\n",
    "\t\tself.model = BertModel.from_pretrained('bert-base-uncased',output_hidden_states = True).eval()# output_hidden_states is whether the model returns all hidden-states. # Put the model in \"evaluation\" mode, meaning feed-forward operation. \n",
    "\t\tpass\n",
    "\n",
    "\tdef listOfRowsFromSCV(self, csv_dir):\n",
    "\t\trows = []\n",
    "\t\twith open(csv_dir, \"r\") as csvfile:\n",
    "\t\t\treader_variable = csv.reader(csvfile, delimiter=\",\")\n",
    "\t\t\tfor row in reader_variable:\n",
    "\t\t\t\trows.append(row)\n",
    "\t\treturn rows\t\n",
    "\t\n",
    "\tdef getSentEmbedding(self, sent):\n",
    "\t\tmarked_text = \"[CLS] \" + sent + \" [SEP]\"\n",
    "\t\ttokenized_text = tokenizer.tokenize(marked_text)\t# Tokenize our sentence with the BERT tokenizer.\n",
    "\t\treturn(tokenized_text)\t# Print out the tokens.\n",
    "\n",
    "\tdef preprocessSentence(self, sent, printing=None):\n",
    "\t\t# Add the special tokens.\n",
    "\t\tmarked_text = \"[CLS] \" + sent + \" [SEP]\"\n",
    "\t\t# Split the sentence into tokens.\n",
    "\t\ttokenized_text = tokenizer.tokenize(marked_text)\n",
    "\t\t# Map the token strings to their vocabulary indeces.\n",
    "\t\tindexed_tokens = tokenizer.convert_tokens_to_ids(tokenized_text)\n",
    "\t\tif printing:\n",
    "\t\t\t# Display the words with their indeces.\n",
    "\t\t\tfor tup in zip(tokenized_text, indexed_tokens):\n",
    "\t\t\t\tprint('{:<12} {:>6,}'.format(tup[0], tup[1]))\n",
    "\n",
    "\t\t# Mark each of the 22 tokens as belonging to sentence \"1\".\n",
    "\t\tsegments_ids = [1] * len(tokenized_text)\n",
    "\t\tif printing:\n",
    "\t\t\tprint(segments_ids)\n",
    "\n",
    "\t\t# Convert inputs to PyTorch tensors\n",
    "\t\ttokens_tensor = torch.tensor([indexed_tokens])\n",
    "\t\tsegments_tensors = torch.tensor([segments_ids])\n",
    "\t\treturn tokens_tensor, segments_tensors\n",
    "\t\n",
    "\tdef hiddenLayersBERT(self, sentences):\n",
    "\t\t# Run the text through BERT, and collect all of the hidden states produced from all 12 layers. \n",
    "\t\thidden_states = [] \n",
    "\t\tfor idx, sentence in enumerate(sentences):\n",
    "\t\t\twith torch.no_grad():\n",
    "\t\t\t\toutputs = self.model(sentence[0], sentence[1])\n",
    "\t\t\t\t\n",
    "\t\t\t\t# Evaluating the model will return a different number of objects based on \n",
    "\t\t\t\t# how it's  configured in the `from_pretrained` call earlier. In this case, \n",
    "\t\t\t\t# becase we set `output_hidden_states = True`, the third item will be the \n",
    "\t\t\t\t# hidden states from all layers. See the documentation for more details:\n",
    "\t\t\t\t# https://huggingface.co/transformers/model_doc/bert.html#bertmodel\n",
    "\t\t\t\thidden_states.append(outputs[2])\n",
    "\t\treturn hidden_states\n",
    "\n",
    "\tdef GetTokenVecSum(self, hidden_state):\n",
    "\t\t# Concatenate the tensors for all layers. We use `stack` here to create a new dimension in the tensor.\n",
    "\t\t# Remove dimension 1, the \"batches\".\n",
    "\t\t# Swap dimensions 0 and 1.\n",
    "\t\ttoken_embeddings = torch.squeeze(torch.stack(hidden_state, dim=0), dim=1).permute(1,0,2)\n",
    "\n",
    "\t\t# `hidden_state` has shape [13 x 1 x 22 x 768]\n",
    "\t\t# `token_vecs` is a tensor with shape [22 x 768]\n",
    "\t\ttoken_vecs = hidden_state[-2][0]\n",
    "\n",
    "\t\t# Calculate the average of all 22 token vectors.\n",
    "\t\tsentence_embedding = torch.mean(token_vecs, dim=0)\n",
    "\n",
    "\t\t#stores the token vectors, with shape [22 x 768]\n",
    "\t\ttoken_vecs_sum = []\n",
    "\n",
    "\t\t# `token_embeddings` is a [22 x 12 x 768] tensor.\n",
    "\t\tfor token in token_embeddings:\n",
    "\t\t\t# `token` is a [12 x 768] tensor\n",
    "\t\t\t# Sum the vectors from the last four layers.\n",
    "\t\t\tsum_vec = torch.sum(token[-4:], dim=0)\n",
    "\t\t\t# Use `sum_vec` to represent `token`.\n",
    "\t\t\ttoken_vecs_sum.append(sum_vec)\n",
    "\n",
    "\t\t#print ('Shape is: %d x %d' % (len(token_vecs_sum), len(token_vecs_sum[0])))\n",
    "\t\treturn token_vecs_sum, sentence_embedding\n",
    "\n",
    "\tdef BERTSentances(self, row_number):\n",
    "\t\tsents_to_evaluate = [self.preprocessSentence(self.data[row_number][0]), self.preprocessSentence(self.data[row_number][1])]\n",
    "\n",
    "\t\thidden = self.hiddenLayersBERT(sents_to_evaluate)\n",
    "\t\treturn hidden\n",
    "\n",
    "\tdef GetEmbeddingsForBothSentences(self, sentences):\n",
    "\t\ttoken_embedding_list = []\n",
    "\t\tsentence_embedding_list = []\n",
    "\t\tfor idx, sentence in enumerate(sentences):\n",
    "\t\t\ttoken_embedding_list.append(self.GetTokenVecSum(sentence)[0])\n",
    "\t\t\tsentence_embedding_list.append(self.GetTokenVecSum(sentence)[1])\n",
    "\t\treturn token_embedding_list, sentence_embedding_list\n",
    "\t\n",
    "\tdef CosineSimilarity(self, sent0, sent1):\n",
    "\t\treturn 1-cosine(sent0, sent1)\n",
    "\t\n",
    "\tdef evaluateSentPair(self, row_number):\n",
    "\t\tsents_to_evaluate = [self.preprocessSentence(self.data[row_number][0]), self.preprocessSentence(self.data[row_number][1])]\n",
    "\n",
    "\t\thidden = self.hiddenLayersBERT(sents_to_evaluate)\n",
    "\t\tembeddings = self.GetEmbeddingsForBothSentences(hidden)\n",
    "\n",
    "\t\treturn self.CosineSimilarity(embeddings[1][0], embeddings[1][1])\n",
    "\t\n",
    "\tdef evaluateAllSentPairs(self):\n",
    "\t\tres = []\n",
    "\t\tfor i in range(len(self.data)):\n",
    "\t\t\tres.append(self.evaluateSentPair(i))\n",
    "\t\treturn res"
   ]
  },
  {
   "attachments": {},
   "cell_type": "markdown",
   "metadata": {},
   "source": [
    "# Plot Classical Similarities"
   ]
  },
  {
   "cell_type": "code",
   "execution_count": 3,
   "metadata": {},
   "outputs": [
    {
     "name": "stderr",
     "output_type": "stream",
     "text": [
      "Some weights of the model checkpoint at bert-base-uncased were not used when initializing BertModel: ['cls.predictions.bias', 'cls.predictions.transform.dense.weight', 'cls.seq_relationship.bias', 'cls.predictions.transform.LayerNorm.bias', 'cls.seq_relationship.weight', 'cls.predictions.transform.dense.bias', 'cls.predictions.transform.LayerNorm.weight', 'cls.predictions.decoder.weight']\n",
      "- This IS expected if you are initializing BertModel from the checkpoint of a model trained on another task or with another architecture (e.g. initializing a BertForSequenceClassification model from a BertForPreTraining model).\n",
      "- This IS NOT expected if you are initializing BertModel from the checkpoint of a model that you expect to be exactly identical (initializing a BertForSequenceClassification model from a BertForSequenceClassification model).\n"
     ]
    },
    {
     "data": {
      "text/plain": [
       "[<matplotlib.lines.Line2D at 0x1daeb0aa6b0>]"
      ]
     },
     "execution_count": 3,
     "metadata": {},
     "output_type": "execute_result"
    },
    {
     "data": {
      "image/png": "[encoded data removed]",
      "text/plain": [
       "<Figure size 640x480 with 1 Axes>"
      ]
     },
     "metadata": {},
     "output_type": "display_data"
    }
   ],
   "source": [
    "bertWwords = BertEncoding(\"DataSet.csv\")\n",
    "similarities = bertWwords.evaluateAllSentPairs()\n",
    "plt.plot(similarities)"
   ]
  },
  {
   "attachments": {},
   "cell_type": "markdown",
   "metadata": {},
   "source": [
    "# Output Vectors to work with:\n",
    "\n",
    "These are a (2,13) array such that the column [0] of length 13 is made from 13 tensors of shape (1,4,768)"
   ]
  },
  {
   "cell_type": "code",
   "execution_count": 4,
   "metadata": {},
   "outputs": [
    {
     "name": "stderr",
     "output_type": "stream",
     "text": [
      "c:\\Users\\henry\\Desktop\\MastersProject\\QC_env\\lib\\site-packages\\numpy\\core\\fromnumeric.py:2009: FutureWarning: The input object of type 'Tensor' is an array-like implementing one of the corresponding protocols (`__array__`, `__array_interface__` or `__array_struct__`); but not a sequence (or 0-D). In the future, this object will be coerced as if it was first converted using `np.array(obj)`. To retain the old behaviour, you have to either modify the type 'Tensor', or assign to an empty array created with `np.empty(correct_shape, dtype=object)`.\n",
      "  result = asarray(a).shape\n",
      "c:\\Users\\henry\\Desktop\\MastersProject\\QC_env\\lib\\site-packages\\numpy\\core\\fromnumeric.py:2009: VisibleDeprecationWarning: Creating an ndarray from ragged nested sequences (which is a list-or-tuple of lists-or-tuples-or ndarrays with different lengths or shapes) is deprecated. If you meant to do this, you must specify 'dtype=object' when creating the ndarray.\n",
      "  result = asarray(a).shape\n"
     ]
    },
    {
     "data": {
      "text/plain": [
       "((2, 13), (13,), torch.Size([1, 4, 768]))"
      ]
     },
     "execution_count": 4,
     "metadata": {},
     "output_type": "execute_result"
    }
   ],
   "source": [
    "np.shape(bertWwords.BERTSentances(2)), np.shape(bertWwords.BERTSentances(2)[0]), np.shape(bertWwords.BERTSentances(2)[0][0])"
   ]
  },
  {
   "cell_type": "code",
   "execution_count": 11,
   "metadata": {},
   "outputs": [
    {
     "data": {
      "text/plain": [
       "3072"
      ]
     },
     "execution_count": 11,
     "metadata": {},
     "output_type": "execute_result"
    }
   ],
   "source": [
    "word_vec = np.ravel(bertWwords.BERTSentances(2)[0][0]) #Possibly use alternative to ravel\n",
    "len(word_vec)"
   ]
  },
  {
   "attachments": {},
   "cell_type": "markdown",
   "metadata": {},
   "source": [
    "# Autoencoder to resize vectors 3072(768x4) -> 15"
   ]
  },
  {
   "cell_type": "code",
   "execution_count": 6,
   "metadata": {},
   "outputs": [],
   "source": [
    "from keras.layers import Dense,Conv2D,MaxPooling2D,UpSampling2D\n",
    "from keras import Input, Model\n",
    "from keras.datasets import mnist\n",
    "import numpy as np\n",
    "import matplotlib.pyplot as plt"
   ]
  },
  {
   "cell_type": "code",
   "execution_count": 15,
   "metadata": {},
   "outputs": [],
   "source": [
    "encoding_dim = 15 \n",
    "input_img = Input(shape=(3072,))\n",
    "# encoded representation of input\n",
    "encoded = Dense(encoding_dim, activation='relu')(input_img)\n",
    "# decoded representation of code \n",
    "decoded1 = Dense(3072, activation='sigmoid')(encoded)\n",
    "decoded2 = Dense(784, activation='sigmoid')(encoded)\n",
    "# Model which take input image and shows decoded images\n",
    "autoencoder = Model(input_img, [decoded1, decoded2])\n",
    "\n",
    "# This model shows encoded images\n",
    "encoder = Model(input_img, encoded)\n",
    "# Creating a decoder model\n",
    "encoded_input = Input(shape=(encoding_dim,))\n",
    "# last layer of the autoencoder model\n",
    "decoder_layer = autoencoder.layers[-1]\n",
    "# decoder model\n",
    "decoder = Model(encoded_input, decoder_layer(encoded_input))\n",
    "autoencoder.compile(optimizer='adam', loss='binary_crossentropy')"
   ]
  },
  {
   "cell_type": "code",
   "execution_count": 8,
   "metadata": {},
   "outputs": [],
   "source": []
  },
  {
   "cell_type": "code",
   "execution_count": 14,
   "metadata": {},
   "outputs": [],
   "source": []
  },
  {
   "cell_type": "code",
   "execution_count": 10,
   "metadata": {},
   "outputs": [
    {
     "name": "stdout",
     "output_type": "stream",
     "text": [
      "Downloading data from https://storage.googleapis.com/tensorflow/tf-keras-datasets/mnist.npz\n",
      "11490434/11490434 [==============================] - 1s 0us/step\n",
      "(60000, 784)\n",
      "(10000, 784)\n"
     ]
    }
   ],
   "source": [
    "(x_train, y_train), (x_test, y_test) = mnist.load_data()\n",
    "x_train = x_train.astype('float32') / 255.\n",
    "x_test = x_test.astype('float32') / 255.\n",
    "x_train = x_train.reshape((len(x_train), np.prod(x_train.shape[1:])))\n",
    "x_test = x_test.reshape((len(x_test), np.prod(x_test.shape[1:])))\n",
    "print(x_train.shape)\n",
    "print(x_test.shape)"
   ]
  },
  {
   "cell_type": "code",
   "execution_count": null,
   "metadata": {},
   "outputs": [],
   "source": []
  }
 ],
 "metadata": {
  "kernelspec": {
   "display_name": "QC_env",
   "language": "python",
   "name": "python3"
  },
  "language_info": {
   "codemirror_mode": {
    "name": "ipython",
    "version": 3
   },
   "file_extension": ".py",
   "mimetype": "text/x-python",
   "name": "python",
   "nbconvert_exporter": "python",
   "pygments_lexer": "ipython3",
   "version": "3.10.8"
  },
  "orig_nbformat": 4,
  "vscode": {
   "interpreter": {
    "hash": "d189fd2b47ddadb241d7d165de12d7185a13a06e223542173d7933cb832f0e2e"
   }
  }
 },
 "nbformat": 4,
 "nbformat_minor": 2
}
